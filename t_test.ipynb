{
 "cells": [
  {
   "cell_type": "code",
   "execution_count": 8,
   "id": "fba7f1f4-af93-490e-b2f1-449bb78a3f42",
   "metadata": {},
   "outputs": [
    {
     "name": "stdout",
     "output_type": "stream",
     "text": [
      "accuracy: t-statistic = 106.86584705, p-value = 0.00000000\n",
      "Significant difference (p <= 0.01) for accuracy\n",
      "Wilcoxon test: t-statistic = 0.00000000, p-value = 0.00195312\n"
     ]
    }
   ],
   "source": [
    "import numpy as np\n",
    "from scipy.stats import ttest_rel\n",
    "from scipy.stats import wilcoxon\n",
    "\n",
    "# 示例数据\n",
    "# Baseline 方法的性能\n",
    "\n",
    "baseline_results = {\n",
    "    \"accuracy\": [0.9639, 0.96385, 0.9637, 0.9639, 0.9639, 0.96395, 0.9641, 0.96315, 0.9636, 0.9647]#decision tree\n",
    "}\n",
    "\n",
    "directau_results = {\n",
    "    \"accuracy\" : [0.9786, 0.979, 0.97845, 0.9791, 0.9788, 0.97855, 0.9785, 0.97895, 0.979, 0.9792]#random forest\n",
    "}\n",
    "\n",
    "\n",
    "# 进行配对 t 检验并输出 p 值\n",
    "for metric in baseline_results.keys():\n",
    "    baseline = np.array(baseline_results[metric])\n",
    "    directau = np.array(directau_results[metric])\n",
    "    \n",
    "    # 配对 t 检验\n",
    "    t_stat, p_value = ttest_rel(directau, baseline)\n",
    "    \n",
    "    # 输出结果\n",
    "    print(f\"{metric}: t-statistic = {t_stat:.8f}, p-value = {p_value:.8f}\")\n",
    "    if p_value <= 0.01:\n",
    "        print(f\"Significant difference (p <= 0.01) for {metric}\")\n",
    "    else:\n",
    "        print(f\"No significant difference (p > 0.01) for {metric}\")\n",
    "\n",
    "\n",
    "    t_stat, p_value = wilcoxon(directau, baseline)\n",
    "    print(f\"Wilcoxon test: t-statistic = {t_stat:.8f}, p-value = {p_value:.8f}\")"
   ]
  },
  {
   "cell_type": "code",
   "execution_count": 7,
   "id": "3701c2c3-ca71-4300-8873-381e05f2f24f",
   "metadata": {},
   "outputs": [
    {
     "name": "stdout",
     "output_type": "stream",
     "text": [
      "Recall@10: t-statistic = 7.5714, p-value = 0.0170\n",
      "No significant difference (p > 0.01) for Recall@10\n",
      "Recall@20: t-statistic = 29.0000, p-value = 0.0012\n",
      "Significant difference (p <= 0.01) for Recall@20\n",
      "Recall@50: t-statistic = 51.5000, p-value = 0.0004\n",
      "Significant difference (p <= 0.01) for Recall@50\n",
      "NDCG@10: t-statistic = 23.0000, p-value = 0.0019\n",
      "Significant difference (p <= 0.01) for NDCG@10\n",
      "NDCG@20: t-statistic = 19.0000, p-value = 0.0028\n",
      "Significant difference (p <= 0.01) for NDCG@20\n",
      "NDCG@50: t-statistic = 19.0000, p-value = 0.0028\n",
      "Significant difference (p <= 0.01) for NDCG@50\n"
     ]
    }
   ],
   "source": [
    "import numpy as np\n",
    "from scipy.stats import ttest_rel\n",
    "\n",
    "# 示例数据\n",
    "# Baseline 方法的性能\n",
    "\n",
    "baseline_results = {\n",
    "    \"Recall@10\": [0.0937, 0.091, 0.089],\n",
    "    \"Recall@20\": [0.1337, 0.132, 0.131],\n",
    "    \"Recall@50\": [0.1996, 0.198, 0.197],\n",
    "    \"NDCG@10\": [0.0547, 0.053, 0.052],\n",
    "    \"NDCG@20\": [0.0651, 0.064, 0.063],\n",
    "    \"NDCG@50\": [0.0786, 0.077, 0.076]\n",
    "}\n",
    "\n",
    "directau_results = {\n",
    "    \"Recall@10\": [0.1002, 0.101, 0.099],\n",
    "    \"Recall@20\": [0.1400, 0.139, 0.138],\n",
    "    \"Recall@50\": [0.2062, 0.205, 0.204],\n",
    "    \"NDCG@10\": [0.0582, 0.057, 0.056],\n",
    "    \"NDCG@20\": [0.0686, 0.067, 0.066],\n",
    "    \"NDCG@50\": [0.0820, 0.081, 0.080]\n",
    "}\n",
    "\n",
    "\n",
    "# 进行配对 t 检验并输出 p 值\n",
    "for metric in baseline_results.keys():\n",
    "    baseline = np.array(baseline_results[metric])\n",
    "    directau = np.array(directau_results[metric])\n",
    "    \n",
    "    # 配对 t 检验\n",
    "    t_stat, p_value = ttest_rel(directau, baseline)\n",
    "    \n",
    "    # 输出结果\n",
    "    print(f\"{metric}: t-statistic = {t_stat:.4f}, p-value = {p_value:.4f}\")\n",
    "    if p_value <= 0.01:\n",
    "        print(f\"Significant difference (p <= 0.01) for {metric}\")\n",
    "    else:\n",
    "        print(f\"No significant difference (p > 0.01) for {metric}\")"
   ]
  },
  {
   "cell_type": "code",
   "execution_count": null,
   "id": "7490ed67-65db-4352-8c13-0c0f169e2a75",
   "metadata": {},
   "outputs": [],
   "source": []
  }
 ],
 "metadata": {
  "kernelspec": {
   "display_name": "Python 3 (ipykernel)",
   "language": "python",
   "name": "python3"
  },
  "language_info": {
   "codemirror_mode": {
    "name": "ipython",
    "version": 3
   },
   "file_extension": ".py",
   "mimetype": "text/x-python",
   "name": "python",
   "nbconvert_exporter": "python",
   "pygments_lexer": "ipython3",
   "version": "3.12.4"
  }
 },
 "nbformat": 4,
 "nbformat_minor": 5
}
